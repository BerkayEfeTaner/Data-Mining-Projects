{
 "cells": [
  {
   "cell_type": "code",
   "execution_count": 2,
   "id": "4f9e2a2f",
   "metadata": {},
   "outputs": [],
   "source": [
    "import numpy as np"
   ]
  },
  {
   "cell_type": "code",
   "execution_count": 3,
   "id": "9694c219",
   "metadata": {},
   "outputs": [],
   "source": [
    "import pandas as pd"
   ]
  },
  {
   "cell_type": "code",
   "execution_count": 4,
   "id": "10f2aecb",
   "metadata": {},
   "outputs": [],
   "source": [
    "import matplotlib.pyplot as plt"
   ]
  },
  {
   "cell_type": "code",
   "execution_count": 5,
   "id": "0d1de349",
   "metadata": {},
   "outputs": [],
   "source": [
    "veri_seti=pd.read_csv(\"salary.zip\")"
   ]
  },
  {
   "cell_type": "code",
   "execution_count": 6,
   "id": "0ff938de",
   "metadata": {},
   "outputs": [
    {
     "data": {
      "text/html": [
       "<div>\n",
       "<style scoped>\n",
       "    .dataframe tbody tr th:only-of-type {\n",
       "        vertical-align: middle;\n",
       "    }\n",
       "\n",
       "    .dataframe tbody tr th {\n",
       "        vertical-align: top;\n",
       "    }\n",
       "\n",
       "    .dataframe thead th {\n",
       "        text-align: right;\n",
       "    }\n",
       "</style>\n",
       "<table border=\"1\" class=\"dataframe\">\n",
       "  <thead>\n",
       "    <tr style=\"text-align: right;\">\n",
       "      <th></th>\n",
       "      <th>Age</th>\n",
       "      <th>Gender</th>\n",
       "      <th>Education Level</th>\n",
       "      <th>Job Title</th>\n",
       "      <th>Years of Experience</th>\n",
       "      <th>Salary</th>\n",
       "    </tr>\n",
       "  </thead>\n",
       "  <tbody>\n",
       "    <tr>\n",
       "      <th>0</th>\n",
       "      <td>32.0</td>\n",
       "      <td>Male</td>\n",
       "      <td>Bachelor's</td>\n",
       "      <td>Software Engineer</td>\n",
       "      <td>5.0</td>\n",
       "      <td>90000.0</td>\n",
       "    </tr>\n",
       "    <tr>\n",
       "      <th>1</th>\n",
       "      <td>28.0</td>\n",
       "      <td>Female</td>\n",
       "      <td>Master's</td>\n",
       "      <td>Data Analyst</td>\n",
       "      <td>3.0</td>\n",
       "      <td>65000.0</td>\n",
       "    </tr>\n",
       "    <tr>\n",
       "      <th>2</th>\n",
       "      <td>45.0</td>\n",
       "      <td>Male</td>\n",
       "      <td>PhD</td>\n",
       "      <td>Senior Manager</td>\n",
       "      <td>15.0</td>\n",
       "      <td>150000.0</td>\n",
       "    </tr>\n",
       "    <tr>\n",
       "      <th>3</th>\n",
       "      <td>36.0</td>\n",
       "      <td>Female</td>\n",
       "      <td>Bachelor's</td>\n",
       "      <td>Sales Associate</td>\n",
       "      <td>7.0</td>\n",
       "      <td>60000.0</td>\n",
       "    </tr>\n",
       "    <tr>\n",
       "      <th>4</th>\n",
       "      <td>52.0</td>\n",
       "      <td>Male</td>\n",
       "      <td>Master's</td>\n",
       "      <td>Director</td>\n",
       "      <td>20.0</td>\n",
       "      <td>200000.0</td>\n",
       "    </tr>\n",
       "    <tr>\n",
       "      <th>...</th>\n",
       "      <td>...</td>\n",
       "      <td>...</td>\n",
       "      <td>...</td>\n",
       "      <td>...</td>\n",
       "      <td>...</td>\n",
       "      <td>...</td>\n",
       "    </tr>\n",
       "    <tr>\n",
       "      <th>6699</th>\n",
       "      <td>49.0</td>\n",
       "      <td>Female</td>\n",
       "      <td>PhD</td>\n",
       "      <td>Director of Marketing</td>\n",
       "      <td>20.0</td>\n",
       "      <td>200000.0</td>\n",
       "    </tr>\n",
       "    <tr>\n",
       "      <th>6700</th>\n",
       "      <td>32.0</td>\n",
       "      <td>Male</td>\n",
       "      <td>High School</td>\n",
       "      <td>Sales Associate</td>\n",
       "      <td>3.0</td>\n",
       "      <td>50000.0</td>\n",
       "    </tr>\n",
       "    <tr>\n",
       "      <th>6701</th>\n",
       "      <td>30.0</td>\n",
       "      <td>Female</td>\n",
       "      <td>Bachelor's Degree</td>\n",
       "      <td>Financial Manager</td>\n",
       "      <td>4.0</td>\n",
       "      <td>55000.0</td>\n",
       "    </tr>\n",
       "    <tr>\n",
       "      <th>6702</th>\n",
       "      <td>46.0</td>\n",
       "      <td>Male</td>\n",
       "      <td>Master's Degree</td>\n",
       "      <td>Marketing Manager</td>\n",
       "      <td>14.0</td>\n",
       "      <td>140000.0</td>\n",
       "    </tr>\n",
       "    <tr>\n",
       "      <th>6703</th>\n",
       "      <td>26.0</td>\n",
       "      <td>Female</td>\n",
       "      <td>High School</td>\n",
       "      <td>Sales Executive</td>\n",
       "      <td>1.0</td>\n",
       "      <td>35000.0</td>\n",
       "    </tr>\n",
       "  </tbody>\n",
       "</table>\n",
       "<p>6704 rows × 6 columns</p>\n",
       "</div>"
      ],
      "text/plain": [
       "       Age  Gender    Education Level              Job Title  \\\n",
       "0     32.0    Male         Bachelor's      Software Engineer   \n",
       "1     28.0  Female           Master's           Data Analyst   \n",
       "2     45.0    Male                PhD         Senior Manager   \n",
       "3     36.0  Female         Bachelor's        Sales Associate   \n",
       "4     52.0    Male           Master's               Director   \n",
       "...    ...     ...                ...                    ...   \n",
       "6699  49.0  Female                PhD  Director of Marketing   \n",
       "6700  32.0    Male        High School        Sales Associate   \n",
       "6701  30.0  Female  Bachelor's Degree      Financial Manager   \n",
       "6702  46.0    Male    Master's Degree      Marketing Manager   \n",
       "6703  26.0  Female        High School        Sales Executive   \n",
       "\n",
       "      Years of Experience    Salary  \n",
       "0                     5.0   90000.0  \n",
       "1                     3.0   65000.0  \n",
       "2                    15.0  150000.0  \n",
       "3                     7.0   60000.0  \n",
       "4                    20.0  200000.0  \n",
       "...                   ...       ...  \n",
       "6699                 20.0  200000.0  \n",
       "6700                  3.0   50000.0  \n",
       "6701                  4.0   55000.0  \n",
       "6702                 14.0  140000.0  \n",
       "6703                  1.0   35000.0  \n",
       "\n",
       "[6704 rows x 6 columns]"
      ]
     },
     "execution_count": 6,
     "metadata": {},
     "output_type": "execute_result"
    }
   ],
   "source": [
    "veri_seti"
   ]
  },
  {
   "cell_type": "code",
   "execution_count": 7,
   "id": "e0a04624",
   "metadata": {},
   "outputs": [
    {
     "data": {
      "text/html": [
       "<div>\n",
       "<style scoped>\n",
       "    .dataframe tbody tr th:only-of-type {\n",
       "        vertical-align: middle;\n",
       "    }\n",
       "\n",
       "    .dataframe tbody tr th {\n",
       "        vertical-align: top;\n",
       "    }\n",
       "\n",
       "    .dataframe thead th {\n",
       "        text-align: right;\n",
       "    }\n",
       "</style>\n",
       "<table border=\"1\" class=\"dataframe\">\n",
       "  <thead>\n",
       "    <tr style=\"text-align: right;\">\n",
       "      <th></th>\n",
       "      <th>Age</th>\n",
       "      <th>Gender</th>\n",
       "      <th>Education Level</th>\n",
       "      <th>Job Title</th>\n",
       "      <th>Years of Experience</th>\n",
       "      <th>Salary</th>\n",
       "    </tr>\n",
       "  </thead>\n",
       "  <tbody>\n",
       "    <tr>\n",
       "      <th>0</th>\n",
       "      <td>32.0</td>\n",
       "      <td>Male</td>\n",
       "      <td>Bachelor's</td>\n",
       "      <td>Software Engineer</td>\n",
       "      <td>5.0</td>\n",
       "      <td>90000.0</td>\n",
       "    </tr>\n",
       "    <tr>\n",
       "      <th>1</th>\n",
       "      <td>28.0</td>\n",
       "      <td>Female</td>\n",
       "      <td>Master's</td>\n",
       "      <td>Data Analyst</td>\n",
       "      <td>3.0</td>\n",
       "      <td>65000.0</td>\n",
       "    </tr>\n",
       "    <tr>\n",
       "      <th>2</th>\n",
       "      <td>45.0</td>\n",
       "      <td>Male</td>\n",
       "      <td>PhD</td>\n",
       "      <td>Senior Manager</td>\n",
       "      <td>15.0</td>\n",
       "      <td>150000.0</td>\n",
       "    </tr>\n",
       "    <tr>\n",
       "      <th>3</th>\n",
       "      <td>36.0</td>\n",
       "      <td>Female</td>\n",
       "      <td>Bachelor's</td>\n",
       "      <td>Sales Associate</td>\n",
       "      <td>7.0</td>\n",
       "      <td>60000.0</td>\n",
       "    </tr>\n",
       "    <tr>\n",
       "      <th>4</th>\n",
       "      <td>52.0</td>\n",
       "      <td>Male</td>\n",
       "      <td>Master's</td>\n",
       "      <td>Director</td>\n",
       "      <td>20.0</td>\n",
       "      <td>200000.0</td>\n",
       "    </tr>\n",
       "  </tbody>\n",
       "</table>\n",
       "</div>"
      ],
      "text/plain": [
       "    Age  Gender Education Level          Job Title  Years of Experience  \\\n",
       "0  32.0    Male      Bachelor's  Software Engineer                  5.0   \n",
       "1  28.0  Female        Master's       Data Analyst                  3.0   \n",
       "2  45.0    Male             PhD     Senior Manager                 15.0   \n",
       "3  36.0  Female      Bachelor's    Sales Associate                  7.0   \n",
       "4  52.0    Male        Master's           Director                 20.0   \n",
       "\n",
       "     Salary  \n",
       "0   90000.0  \n",
       "1   65000.0  \n",
       "2  150000.0  \n",
       "3   60000.0  \n",
       "4  200000.0  "
      ]
     },
     "execution_count": 7,
     "metadata": {},
     "output_type": "execute_result"
    }
   ],
   "source": [
    "veri_seti.head()"
   ]
  },
  {
   "cell_type": "code",
   "execution_count": 8,
   "id": "1bf06006",
   "metadata": {},
   "outputs": [
    {
     "data": {
      "text/plain": [
       "Age                    2\n",
       "Gender                 2\n",
       "Education Level        3\n",
       "Job Title              2\n",
       "Years of Experience    3\n",
       "Salary                 5\n",
       "dtype: int64"
      ]
     },
     "execution_count": 8,
     "metadata": {},
     "output_type": "execute_result"
    }
   ],
   "source": [
    "veri_seti.isna().sum()"
   ]
  },
  {
   "cell_type": "code",
   "execution_count": 9,
   "id": "898d4501",
   "metadata": {},
   "outputs": [
    {
     "data": {
      "text/plain": [
       "Age                    float64\n",
       "Gender                  object\n",
       "Education Level         object\n",
       "Job Title               object\n",
       "Years of Experience    float64\n",
       "Salary                 float64\n",
       "dtype: object"
      ]
     },
     "execution_count": 9,
     "metadata": {},
     "output_type": "execute_result"
    }
   ],
   "source": [
    "veri_seti.dtypes"
   ]
  },
  {
   "cell_type": "code",
   "execution_count": 24,
   "id": "14d7875a",
   "metadata": {},
   "outputs": [],
   "source": [
    "age_dolu_veri_seti=veri_seti.Age.fillna(value=veri_seti.Age.mean())\n",
    "veri_seti.Age=age_dolu_veri_seti"
   ]
  },
  {
   "cell_type": "code",
   "execution_count": 25,
   "id": "5009936a",
   "metadata": {},
   "outputs": [
    {
     "data": {
      "text/plain": [
       "0"
      ]
     },
     "execution_count": 25,
     "metadata": {},
     "output_type": "execute_result"
    }
   ],
   "source": [
    "veri_seti.Age.isna().sum()"
   ]
  },
  {
   "cell_type": "code",
   "execution_count": 27,
   "id": "0f2f90a2",
   "metadata": {},
   "outputs": [],
   "source": [
    "maas_dolu_veri_seti=veri_seti.Salary.fillna(value=veri_seti.Salary.mean())\n",
    "veri_seti.Salary=maas_dolu_veri_seti"
   ]
  },
  {
   "cell_type": "code",
   "execution_count": 28,
   "id": "bae5b2ac",
   "metadata": {},
   "outputs": [
    {
     "data": {
      "text/plain": [
       "0"
      ]
     },
     "execution_count": 28,
     "metadata": {},
     "output_type": "execute_result"
    }
   ],
   "source": [
    "veri_seti.Salary.isna().sum()"
   ]
  },
  {
   "cell_type": "code",
   "execution_count": 47,
   "id": "861cd3c0",
   "metadata": {},
   "outputs": [],
   "source": [
    "egitim_dolu_veri_seti=veri_seti[\"Education Level\"].fillna('obj.bfill')\n",
    "veri_seti[\"Education Level\"]=egitim_dolu_veri_seti"
   ]
  },
  {
   "cell_type": "code",
   "execution_count": 48,
   "id": "c10fac2f",
   "metadata": {},
   "outputs": [
    {
     "data": {
      "text/plain": [
       "0"
      ]
     },
     "execution_count": 48,
     "metadata": {},
     "output_type": "execute_result"
    }
   ],
   "source": [
    "veri_seti[\"Education Level\"].isna().sum()"
   ]
  },
  {
   "cell_type": "code",
   "execution_count": 49,
   "id": "65009713",
   "metadata": {},
   "outputs": [],
   "source": [
    "is_adi_dolu_veri=veri_seti[\"Job Title\"].fillna('obj.bfill')\n",
    "veri_seti[\"Job Title\"]=is_adi_dolu_veri"
   ]
  },
  {
   "cell_type": "code",
   "execution_count": 50,
   "id": "2d593b58",
   "metadata": {},
   "outputs": [
    {
     "data": {
      "text/plain": [
       "0"
      ]
     },
     "execution_count": 50,
     "metadata": {},
     "output_type": "execute_result"
    }
   ],
   "source": [
    "veri_seti[\"Job Title\"].isna().sum()"
   ]
  },
  {
   "cell_type": "code",
   "execution_count": 51,
   "id": "47ab08b1",
   "metadata": {},
   "outputs": [],
   "source": [
    "tecrube_suresi_dolu_veri_seti=veri_seti[\"Years of Experience\"].fillna('obj.bfill')\n",
    "veri_seti[\"Years of Experience\"]=tecrube_suresi_dolu_veri_seti"
   ]
  },
  {
   "cell_type": "code",
   "execution_count": 52,
   "id": "114f4840",
   "metadata": {},
   "outputs": [
    {
     "data": {
      "text/plain": [
       "0"
      ]
     },
     "execution_count": 52,
     "metadata": {},
     "output_type": "execute_result"
    }
   ],
   "source": [
    "veri_seti[\"Years of Experience\"].isna().sum()"
   ]
  },
  {
   "cell_type": "code",
   "execution_count": 53,
   "id": "60f90dc2",
   "metadata": {},
   "outputs": [],
   "source": [
    "cinsiyet_dolu_veri_seti=veri_seti.Gender.fillna('obj.bfill')\n",
    "veri_seti.Gender=cinsiyet_dolu_veri_seti"
   ]
  },
  {
   "cell_type": "code",
   "execution_count": 54,
   "id": "12ab4149",
   "metadata": {},
   "outputs": [
    {
     "data": {
      "text/plain": [
       "0"
      ]
     },
     "execution_count": 54,
     "metadata": {},
     "output_type": "execute_result"
    }
   ],
   "source": [
    "veri_seti.Gender.isna().sum()"
   ]
  },
  {
   "cell_type": "code",
   "execution_count": 55,
   "id": "896514a7",
   "metadata": {},
   "outputs": [
    {
     "data": {
      "text/plain": [
       "Age                    0\n",
       "Gender                 0\n",
       "Education Level        0\n",
       "Job Title              0\n",
       "Years of Experience    0\n",
       "Salary                 0\n",
       "dtype: int64"
      ]
     },
     "execution_count": 55,
     "metadata": {},
     "output_type": "execute_result"
    }
   ],
   "source": [
    "veri_seti.isna().sum()"
   ]
  },
  {
   "cell_type": "code",
   "execution_count": 56,
   "id": "b6b81030",
   "metadata": {},
   "outputs": [
    {
     "data": {
      "text/plain": [
       "<Axes: >"
      ]
     },
     "execution_count": 56,
     "metadata": {},
     "output_type": "execute_result"
    },
    {
     "data": {
      "image/png": "[encoded data removed]",
      "text/plain": [
       "<Figure size 640x480 with 1 Axes>"
      ]
     },
     "metadata": {},
     "output_type": "display_data"
    }
   ],
   "source": [
    "veri_seti.Salary.plot(kind='box')"
   ]
  },
  {
   "cell_type": "code",
   "execution_count": 58,
   "id": "0ee893f0",
   "metadata": {},
   "outputs": [
    {
     "data": {
      "text/plain": [
       "(70000.0, 160000.0, 90000.0)"
      ]
     },
     "execution_count": 58,
     "metadata": {},
     "output_type": "execute_result"
    }
   ],
   "source": [
    "Q1=veri_seti.Salary.quantile(0.25) \n",
    "Q3=veri_seti.Salary.quantile(0.75) \n",
    "IQR= Q3-Q1\n",
    "Q1,Q3,IQR"
   ]
  },
  {
   "cell_type": "code",
   "execution_count": 63,
   "id": "a658d833",
   "metadata": {},
   "outputs": [
    {
     "data": {
      "text/plain": [
       "-65000.0"
      ]
     },
     "execution_count": 63,
     "metadata": {},
     "output_type": "execute_result"
    }
   ],
   "source": [
    "aykiri_maas_alt_limit= Q1- 1.5*IQR\n",
    "aykiri_maas_alt_limit"
   ]
  },
  {
   "cell_type": "code",
   "execution_count": 64,
   "id": "51e7be5d",
   "metadata": {},
   "outputs": [
    {
     "data": {
      "text/plain": [
       "295000.0"
      ]
     },
     "execution_count": 64,
     "metadata": {},
     "output_type": "execute_result"
    }
   ],
   "source": [
    "aykiri_maas_ust_limit= Q3+ 1.5*IQR\n",
    "aykiri_maas_ust_limit"
   ]
  },
  {
   "cell_type": "code",
   "execution_count": 62,
   "id": "6c0b3677",
   "metadata": {},
   "outputs": [
    {
     "data": {
      "text/plain": [
       "<Axes: >"
      ]
     },
     "execution_count": 62,
     "metadata": {},
     "output_type": "execute_result"
    },
    {
     "data": {
      "image/png": "[encoded data removed]",
      "text/plain": [
       "<Figure size 640x480 with 1 Axes>"
      ]
     },
     "metadata": {},
     "output_type": "display_data"
    }
   ],
   "source": [
    "veri_seti.Age.plot(kind='box')"
   ]
  },
  {
   "cell_type": "code",
   "execution_count": 87,
   "id": "5c90b776",
   "metadata": {},
   "outputs": [
    {
     "data": {
      "text/plain": [
       "(28.0, 38.0, 10.0)"
      ]
     },
     "execution_count": 87,
     "metadata": {},
     "output_type": "execute_result"
    }
   ],
   "source": [
    "Q1=veri_seti.Age.quantile(0.25) \n",
    "Q3=veri_seti.Age.quantile(0.75) \n",
    "IQR= Q3-Q1\n",
    "Q1,Q3,IQR"
   ]
  },
  {
   "cell_type": "code",
   "execution_count": 88,
   "id": "942cb193",
   "metadata": {},
   "outputs": [
    {
     "data": {
      "text/plain": [
       "13.0"
      ]
     },
     "execution_count": 88,
     "metadata": {},
     "output_type": "execute_result"
    }
   ],
   "source": [
    "alt_limit= Q1- 1.5*IQR\n",
    "alt_limit"
   ]
  },
  {
   "cell_type": "code",
   "execution_count": 89,
   "id": "2d0552c6",
   "metadata": {},
   "outputs": [
    {
     "data": {
      "text/plain": [
       "53.0"
      ]
     },
     "execution_count": 89,
     "metadata": {},
     "output_type": "execute_result"
    }
   ],
   "source": [
    "ust_limit= Q3+ 1.5*IQR\n",
    "ust_limit"
   ]
  },
  {
   "cell_type": "code",
   "execution_count": 93,
   "id": "d0a0f612",
   "metadata": {},
   "outputs": [],
   "source": [
    "veri_seti[age_dolu_veri_seti > ust_limit]  = ust_limit"
   ]
  },
  {
   "cell_type": "code",
   "execution_count": 94,
   "id": "f393a765",
   "metadata": {},
   "outputs": [],
   "source": [
    "veri_seti[age_dolu_veri_seti < alt_limit]  = alt_limit"
   ]
  },
  {
   "cell_type": "code",
   "execution_count": 95,
   "id": "aa4f28d9",
   "metadata": {},
   "outputs": [
    {
     "data": {
      "text/plain": [
       "<Axes: >"
      ]
     },
     "execution_count": 95,
     "metadata": {},
     "output_type": "execute_result"
    },
    {
     "data": {
      "image/png": "[encoded data removed]",
      "text/plain": [
       "<Figure size 640x480 with 1 Axes>"
      ]
     },
     "metadata": {},
     "output_type": "display_data"
    }
   ],
   "source": [
    "veri_seti.Age.plot(kind='box')"
   ]
  },
  {
   "cell_type": "code",
   "execution_count": 98,
   "id": "930c1808",
   "metadata": {},
   "outputs": [
    {
     "data": {
      "text/plain": [
       "53.0"
      ]
     },
     "execution_count": 98,
     "metadata": {},
     "output_type": "execute_result"
    }
   ],
   "source": [
    "veri_seti.Age.max()"
   ]
  },
  {
   "cell_type": "code",
   "execution_count": 99,
   "id": "0d74203e",
   "metadata": {},
   "outputs": [
    {
     "data": {
      "text/plain": [
       "21.0"
      ]
     },
     "execution_count": 99,
     "metadata": {},
     "output_type": "execute_result"
    }
   ],
   "source": [
    "veri_seti.Age.min()"
   ]
  },
  {
   "cell_type": "code",
   "execution_count": 100,
   "id": "2c2e3dcd",
   "metadata": {},
   "outputs": [],
   "source": [
    "normalize_oldu=(veri_seti.Age-veri_seti.Age.min())/(veri_seti.Age.max()-veri_seti.Age.min())"
   ]
  },
  {
   "cell_type": "code",
   "execution_count": 101,
   "id": "ff139782",
   "metadata": {},
   "outputs": [
    {
     "data": {
      "text/plain": [
       "0       0.34375\n",
       "1       0.21875\n",
       "2       0.75000\n",
       "3       0.46875\n",
       "4       0.96875\n",
       "         ...   \n",
       "6699    0.87500\n",
       "6700    0.34375\n",
       "6701    0.28125\n",
       "6702    0.78125\n",
       "6703    0.15625\n",
       "Name: Age, Length: 6704, dtype: float64"
      ]
     },
     "execution_count": 101,
     "metadata": {},
     "output_type": "execute_result"
    }
   ],
   "source": [
    "normalize_oldu"
   ]
  },
  {
   "cell_type": "code",
   "execution_count": 102,
   "id": "5d61ebd3",
   "metadata": {},
   "outputs": [
    {
     "data": {
      "text/plain": [
       "250000.0"
      ]
     },
     "execution_count": 102,
     "metadata": {},
     "output_type": "execute_result"
    }
   ],
   "source": [
    "veri_seti.Salary.max()"
   ]
  },
  {
   "cell_type": "code",
   "execution_count": 160,
   "id": "c38eda59",
   "metadata": {},
   "outputs": [
    {
     "data": {
      "text/plain": [
       "53.0"
      ]
     },
     "execution_count": 160,
     "metadata": {},
     "output_type": "execute_result"
    }
   ],
   "source": [
    "veri_seti.Salary.min()"
   ]
  },
  {
   "cell_type": "code",
   "execution_count": 104,
   "id": "79c603f1",
   "metadata": {},
   "outputs": [],
   "source": [
    "normalize_edildi=(veri_seti.Salary-veri_seti.Salary.min())/(veri_seti.Salary.max()-veri_seti.Salary.min())"
   ]
  },
  {
   "cell_type": "code",
   "execution_count": 105,
   "id": "c059dad4",
   "metadata": {},
   "outputs": [
    {
     "data": {
      "text/plain": [
       "0       0.359864\n",
       "1       0.259843\n",
       "2       0.599915\n",
       "3       0.239839\n",
       "4       0.799958\n",
       "          ...   \n",
       "6699    0.799958\n",
       "6700    0.199830\n",
       "6701    0.219835\n",
       "6702    0.559907\n",
       "6703    0.139818\n",
       "Name: Salary, Length: 6704, dtype: float64"
      ]
     },
     "execution_count": 105,
     "metadata": {},
     "output_type": "execute_result"
    }
   ],
   "source": [
    "normalize_edildi"
   ]
  },
  {
   "cell_type": "code",
   "execution_count": 133,
   "id": "a081598d",
   "metadata": {},
   "outputs": [
    {
     "data": {
      "text/plain": [
       "count    6704.000000\n",
       "mean       33.576110\n",
       "std         7.485355\n",
       "min        21.000000\n",
       "25%        28.000000\n",
       "50%        32.000000\n",
       "75%        38.000000\n",
       "max        53.000000\n",
       "Name: Age, dtype: float64"
      ]
     },
     "execution_count": 133,
     "metadata": {},
     "output_type": "execute_result"
    }
   ],
   "source": [
    "veri_seti.Age.describe()"
   ]
  },
  {
   "cell_type": "code",
   "execution_count": 135,
   "id": "eebf8b89",
   "metadata": {},
   "outputs": [
    {
     "data": {
      "text/plain": [
       "count      6704.000000\n",
       "mean     111816.721782\n",
       "std       53914.534078\n",
       "min          53.000000\n",
       "25%       65000.000000\n",
       "50%      110000.000000\n",
       "75%      160000.000000\n",
       "max      250000.000000\n",
       "Name: Salary, dtype: float64"
      ]
     },
     "execution_count": 135,
     "metadata": {},
     "output_type": "execute_result"
    }
   ],
   "source": [
    "veri_seti.Salary.describe()"
   ]
  },
  {
   "cell_type": "code",
   "execution_count": 159,
   "id": "3c4c9691",
   "metadata": {},
   "outputs": [
    {
     "data": {
      "text/plain": [
       "<Axes: >"
      ]
     },
     "execution_count": 159,
     "metadata": {},
     "output_type": "execute_result"
    },
    {
     "data": {
      "image/png": "[encoded data removed]",
      "text/plain": [
       "<Figure size 640x480 with 1 Axes>"
      ]
     },
     "metadata": {},
     "output_type": "display_data"
    }
   ],
   "source": [
    "veri_seti.Age.hist()"
   ]
  },
  {
   "cell_type": "code",
   "execution_count": 148,
   "id": "b5b8595a",
   "metadata": {},
   "outputs": [
    {
     "data": {
      "text/plain": [
       "<Axes: >"
      ]
     },
     "execution_count": 148,
     "metadata": {},
     "output_type": "execute_result"
    },
    {
     "data": {
      "image/png": "[encoded data removed]",
      "text/plain": [
       "<Figure size 640x480 with 1 Axes>"
      ]
     },
     "metadata": {},
     "output_type": "display_data"
    }
   ],
   "source": [
    "veri_seti.Salary.hist()"
   ]
  },
  {
   "cell_type": "code",
   "execution_count": null,
   "id": "dc15ec73",
   "metadata": {},
   "outputs": [],
   "source": []
  },
  {
   "cell_type": "code",
   "execution_count": null,
   "id": "bc75e761",
   "metadata": {},
   "outputs": [],
   "source": []
  },
  {
   "cell_type": "code",
   "execution_count": null,
   "id": "382a208f",
   "metadata": {},
   "outputs": [],
   "source": []
  },
  {
   "cell_type": "code",
   "execution_count": null,
   "id": "1d1c5606",
   "metadata": {},
   "outputs": [],
   "source": []
  },
  {
   "cell_type": "code",
   "execution_count": null,
   "id": "9da24ba5",
   "metadata": {},
   "outputs": [],
   "source": []
  },
  {
   "cell_type": "code",
   "execution_count": null,
   "id": "0d49a8ac",
   "metadata": {},
   "outputs": [],
   "source": []
  }
 ],
 "metadata": {
  "kernelspec": {
   "display_name": "Python 3 (ipykernel)",
   "language": "python",
   "name": "python3"
  },
  "language_info": {
   "codemirror_mode": {
    "name": "ipython",
    "version": 3
   },
   "file_extension": ".py",
   "mimetype": "text/x-python",
   "name": "python",
   "nbconvert_exporter": "python",
   "pygments_lexer": "ipython3",
   "version": "3.11.5"
  }
 },
 "nbformat": 4,
 "nbformat_minor": 5
}
